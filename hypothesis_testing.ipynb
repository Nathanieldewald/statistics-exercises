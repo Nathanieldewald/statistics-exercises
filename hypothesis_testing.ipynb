{
 "cells": [
  {
   "cell_type": "markdown",
   "source": [
    "Has the network latency gone up since we switched internet service providers?\n",
    "Is the website redesign any good?\n",
    "Is our television ad driving more sales?"
   ],
   "metadata": {
    "collapsed": false
   }
  },
  {
   "cell_type": "markdown",
   "source": [
    "1.Answer with the type of test you would use (assume normal distribution):\n",
    "\n",
    "    Is there a difference in grades of students on the second floor compared to grades of all students?\n",
    "\n",
    "    Are adults who drink milk taller than adults who dont drink milk?\n",
    "\n",
    "    Is the the price of gas higher in texas or in new mexico?\n",
    "\n",
    "    Are there differences in stress levels between students who take data science vs students who take web development vs students who take cloud academy?"
   ],
   "metadata": {
    "collapsed": false
   }
  },
  {
   "cell_type": "markdown",
   "source": [
    "# is there a difference in grades of students on the second floor compared to grades of all students?\n",
    "independent t-test"
   ],
   "metadata": {
    "collapsed": false
   }
  },
  {
   "cell_type": "markdown",
   "source": [
    "# Are adults who drink milk taller than adults who dont drink milk?\n",
    "independent t-test"
   ],
   "metadata": {
    "collapsed": false
   }
  },
  {
   "cell_type": "markdown",
   "source": [
    "# Is the the price of gas higher in texas or in new mexico?\n",
    "independent t-test"
   ],
   "metadata": {
    "collapsed": false
   }
  },
  {
   "cell_type": "markdown",
   "source": [
    "# Are there differences in stress levels between students who take data science vs students who take web development vs students who take cloud academy?\n",
    "ANOVA"
   ],
   "metadata": {
    "collapsed": false
   }
  },
  {
   "cell_type": "markdown",
   "source": [
    "2.Ace Realty wants to determine whether the average time it takes to sell homes is different for its two offices. A sample of 40 sales from office #1 revealed a mean of 90 days and a standard deviation of 15 days. A sample of 50 sales from office #2 revealed a mean of 100 days and a standard deviation of 20 days. Use a .05 level of significance."
   ],
   "metadata": {
    "collapsed": false
   }
  },
  {
   "cell_type": "code",
   "execution_count": 1,
   "outputs": [],
   "source": [
    "import numpy as np\n",
    "import pandas as pd\n",
    "from pydataset import data\n",
    "from scipy import stats\n",
    "a_sample = 40\n",
    "b_sample = 50\n",
    "a_mean = 90\n",
    "b_mean = 100\n",
    "a_std = 15\n",
    "b_std = 20\n",
    "alpha = .05\n",
    "df_a = pd.DataFrame(np.random.normal(a_mean, a_std, a_sample))\n",
    "df_b = pd.DataFrame(np.random.normal(b_mean, b_std, b_sample))"
   ],
   "metadata": {
    "collapsed": false,
    "ExecuteTime": {
     "start_time": "2023-04-20T12:04:47.573014Z",
     "end_time": "2023-04-20T12:04:47.685148Z"
    }
   }
  },
  {
   "cell_type": "code",
   "execution_count": 2,
   "outputs": [
    {
     "data": {
      "text/plain": "array([[<Axes: title={'center': '0'}>]], dtype=object)"
     },
     "execution_count": 2,
     "metadata": {},
     "output_type": "execute_result"
    },
    {
     "data": {
      "text/plain": "<Figure size 640x480 with 1 Axes>",
      "image/png": "[encoded data removed]"
     },
     "metadata": {},
     "output_type": "display_data"
    }
   ],
   "source": [
    "df_a.hist()"
   ],
   "metadata": {
    "collapsed": false,
    "ExecuteTime": {
     "start_time": "2023-04-20T12:04:47.587196Z",
     "end_time": "2023-04-20T12:04:47.824147Z"
    }
   }
  },
  {
   "cell_type": "code",
   "execution_count": 3,
   "outputs": [
    {
     "data": {
      "text/plain": "array([[<Axes: title={'center': '0'}>]], dtype=object)"
     },
     "execution_count": 3,
     "metadata": {},
     "output_type": "execute_result"
    },
    {
     "data": {
      "text/plain": "<Figure size 640x480 with 1 Axes>",
      "image/png": "[encoded data removed]"
     },
     "metadata": {},
     "output_type": "display_data"
    }
   ],
   "source": [
    "df_b.hist()"
   ],
   "metadata": {
    "collapsed": false,
    "ExecuteTime": {
     "start_time": "2023-04-20T12:04:47.699068Z",
     "end_time": "2023-04-20T12:04:47.824773Z"
    }
   }
  },
  {
   "cell_type": "markdown",
   "source": [
    "$H{o}$: office 1 and office 2 have the same average time to sell a home\n",
    "$H{a}$: office 1 and office 2 do not have the same average time to sell a home"
   ],
   "metadata": {
    "collapsed": false
   }
  },
  {
   "cell_type": "code",
   "execution_count": 4,
   "outputs": [
    {
     "name": "stdout",
     "output_type": "stream",
     "text": [
      "0    246.710206\n",
      "dtype: float64\n",
      "0    371.97946\n",
      "dtype: float64\n"
     ]
    }
   ],
   "source": [
    "print(df_a.var())\n",
    "print(df_b.var())"
   ],
   "metadata": {
    "collapsed": false,
    "ExecuteTime": {
     "start_time": "2023-04-20T12:04:47.780141Z",
     "end_time": "2023-04-20T12:04:47.824940Z"
    }
   }
  },
  {
   "cell_type": "code",
   "execution_count": 5,
   "outputs": [
    {
     "data": {
      "text/plain": "(array([-3.40323965]), array([0.00100439]))"
     },
     "execution_count": 5,
     "metadata": {},
     "output_type": "execute_result"
    }
   ],
   "source": [
    "t, p = stats.ttest_ind(df_a, df_b, equal_var=False)\n",
    "t, p"
   ],
   "metadata": {
    "collapsed": false,
    "ExecuteTime": {
     "start_time": "2023-04-20T12:04:47.784805Z",
     "end_time": "2023-04-20T12:04:47.825074Z"
    }
   }
  },
  {
   "cell_type": "code",
   "execution_count": 6,
   "outputs": [
    {
     "name": "stdout",
     "output_type": "stream",
     "text": [
      "is p/2 < alpha? [ True]\n",
      "is t > 0? [False]\n"
     ]
    }
   ],
   "source": [
    "print(\"is p/2 < alpha?\", p < alpha)\n",
    "print(\"is t > 0?\", t > 0)"
   ],
   "metadata": {
    "collapsed": false,
    "ExecuteTime": {
     "start_time": "2023-04-20T12:04:47.786424Z",
     "end_time": "2023-04-20T12:04:47.825184Z"
    }
   }
  },
  {
   "cell_type": "code",
   "execution_count": 7,
   "outputs": [
    {
     "name": "stdout",
     "output_type": "stream",
     "text": [
      "fail to reject the null hypothesis\n"
     ]
    }
   ],
   "source": [
    "if p < alpha and t > 0:\n",
    "    print(\"reject the null hypothesis\")\n",
    "else:\n",
    "    print(\"fail to reject the null hypothesis\")"
   ],
   "metadata": {
    "collapsed": false,
    "ExecuteTime": {
     "start_time": "2023-04-20T12:04:47.789660Z",
     "end_time": "2023-04-20T12:04:47.825283Z"
    }
   }
  },
  {
   "cell_type": "markdown",
   "source": [
    "\n",
    "3.Load the mpg dataset and use it to answer the following questions:\n",
    "\n",
    "    Is there a difference in fuel-efficiency in cars from 2008 vs 1999?"
   ],
   "metadata": {
    "collapsed": false
   }
  },
  {
   "cell_type": "code",
   "execution_count": 8,
   "outputs": [],
   "source": [
    "df_mpg = data('mpg')\n",
    "df_mpg['average_mileage'] = (df_mpg.cty + df_mpg.hwy) / 2\n",
    "df_mpg_1999 = df_mpg[df_mpg.year == 1999]\n",
    "df_mpg_2008 = df_mpg[df_mpg.year == 2008]"
   ],
   "metadata": {
    "collapsed": false,
    "ExecuteTime": {
     "start_time": "2023-04-20T12:04:47.792257Z",
     "end_time": "2023-04-20T12:04:47.825342Z"
    }
   }
  },
  {
   "cell_type": "markdown",
   "source": [
    "$H{o}$: there is no difference in fuel-efficiency in cars from 1999 vs 2008\n",
    "$H{a}$: there is a difference in fuel-efficiency in cars from 1999 vs 2008"
   ],
   "metadata": {
    "collapsed": false
   }
  },
  {
   "cell_type": "code",
   "execution_count": 9,
   "outputs": [
    {
     "name": "stdout",
     "output_type": "stream",
     "text": [
      "27.122605363984682\n",
      "24.097480106100797\n"
     ]
    }
   ],
   "source": [
    "print(df_mpg_1999.average_mileage.var())\n",
    "print(df_mpg_2008.average_mileage.var())"
   ],
   "metadata": {
    "collapsed": false,
    "ExecuteTime": {
     "start_time": "2023-04-20T12:04:47.797959Z",
     "end_time": "2023-04-20T12:04:47.825438Z"
    }
   }
  },
  {
   "cell_type": "code",
   "execution_count": 10,
   "outputs": [],
   "source": [
    "t, p = stats.ttest_ind(df_mpg_1999.average_mileage, df_mpg_2008.average_mileage, equal_var=False)"
   ],
   "metadata": {
    "collapsed": false,
    "ExecuteTime": {
     "start_time": "2023-04-20T12:04:47.800250Z",
     "end_time": "2023-04-20T12:04:47.825486Z"
    }
   }
  },
  {
   "cell_type": "code",
   "execution_count": 11,
   "outputs": [
    {
     "name": "stdout",
     "output_type": "stream",
     "text": [
      "is p < alpha? False\n",
      "is t > 0? True\n"
     ]
    }
   ],
   "source": [
    "print(\"is p < alpha?\", p < alpha)\n",
    "print(\"is t > 0?\", t > 0)"
   ],
   "metadata": {
    "collapsed": false,
    "ExecuteTime": {
     "start_time": "2023-04-20T12:04:47.801963Z",
     "end_time": "2023-04-20T12:04:47.825575Z"
    }
   }
  },
  {
   "cell_type": "code",
   "execution_count": 12,
   "outputs": [
    {
     "name": "stdout",
     "output_type": "stream",
     "text": [
      "fail to reject the null hypothesis\n"
     ]
    }
   ],
   "source": [
    "if p/2 < alpha and t > 0:\n",
    "    print(\"reject the null hypothesis\")\n",
    "else:\n",
    "    print(\"fail to reject the null hypothesis\")"
   ],
   "metadata": {
    "collapsed": false,
    "ExecuteTime": {
     "start_time": "2023-04-20T12:04:47.804008Z",
     "end_time": "2023-04-20T12:04:47.904079Z"
    }
   }
  },
  {
   "cell_type": "markdown",
   "source": [
    "    Are compact cars more fuel-efficient than the average car?"
   ],
   "metadata": {
    "collapsed": false
   }
  },
  {
   "cell_type": "code",
   "execution_count": 13,
   "outputs": [],
   "source": [
    "\n",
    "df_compact = df_mpg[df_mpg['class'] == 'compact']"
   ],
   "metadata": {
    "collapsed": false,
    "ExecuteTime": {
     "start_time": "2023-04-20T12:04:47.806128Z",
     "end_time": "2023-04-20T12:04:47.904175Z"
    }
   }
  },
  {
   "cell_type": "markdown",
   "source": [
    "$H {o}$: compact cars are not more fuel-efficient than the average car\n",
    "$H {a}$: compact cars are more fuel-efficient than the average car"
   ],
   "metadata": {
    "collapsed": false
   }
  },
  {
   "cell_type": "code",
   "execution_count": 14,
   "outputs": [
    {
     "name": "stdout",
     "output_type": "stream",
     "text": [
      "12.442876965772433\n",
      "25.50542900113715\n"
     ]
    }
   ],
   "source": [
    "print(df_compact.average_mileage.var())\n",
    "print(df_mpg.average_mileage.var())"
   ],
   "metadata": {
    "collapsed": false,
    "ExecuteTime": {
     "start_time": "2023-04-20T12:04:47.810575Z",
     "end_time": "2023-04-20T12:04:47.904325Z"
    }
   }
  },
  {
   "cell_type": "code",
   "execution_count": 15,
   "outputs": [
    {
     "data": {
      "text/plain": "(7.896888573132533, 4.1985637943171486e-10)"
     },
     "execution_count": 15,
     "metadata": {},
     "output_type": "execute_result"
    }
   ],
   "source": [
    "t, p = stats.ttest_1samp(df_compact.average_mileage, df_mpg.average_mileage.mean())\n",
    "t, p"
   ],
   "metadata": {
    "collapsed": false,
    "ExecuteTime": {
     "start_time": "2023-04-20T12:04:47.813407Z",
     "end_time": "2023-04-20T12:04:47.904428Z"
    }
   }
  },
  {
   "cell_type": "code",
   "execution_count": 16,
   "outputs": [
    {
     "name": "stdout",
     "output_type": "stream",
     "text": [
      "is p < alpha? True\n",
      "is t > 0? True\n"
     ]
    }
   ],
   "source": [
    "print(\"is p < alpha?\", p < alpha)\n",
    "print(\"is t > 0?\", t > 0)"
   ],
   "metadata": {
    "collapsed": false,
    "ExecuteTime": {
     "start_time": "2023-04-20T12:04:47.815677Z",
     "end_time": "2023-04-20T12:04:47.923588Z"
    }
   }
  },
  {
   "cell_type": "code",
   "execution_count": 17,
   "outputs": [
    {
     "name": "stdout",
     "output_type": "stream",
     "text": [
      "reject the null hypothesis\n"
     ]
    }
   ],
   "source": [
    "if p < alpha and t > 0:\n",
    "    print(\"reject the null hypothesis\")\n",
    "else:\n",
    "    print(\"fail to reject the null hypothesis\")"
   ],
   "metadata": {
    "collapsed": false,
    "ExecuteTime": {
     "start_time": "2023-04-20T12:04:47.817764Z",
     "end_time": "2023-04-20T12:04:47.923803Z"
    }
   }
  },
  {
   "cell_type": "markdown",
   "source": [
    "\n",
    "    Do manual cars get better gas mileage than automatic cars?"
   ],
   "metadata": {
    "collapsed": false
   }
  },
  {
   "cell_type": "code",
   "execution_count": 18,
   "outputs": [],
   "source": [
    "df_manual = df_mpg[df_mpg[\"trans\"].str.contains(\"manual\")]\n",
    "df_auto = df_mpg[df_mpg[\"trans\"].str.contains(\"auto\")]"
   ],
   "metadata": {
    "collapsed": false,
    "ExecuteTime": {
     "start_time": "2023-04-20T12:04:47.820609Z",
     "end_time": "2023-04-20T12:04:47.923879Z"
    }
   }
  },
  {
   "cell_type": "markdown",
   "source": [
    "$H {o}$: manual cars do not get better gas mileage than automatic cars\n",
    "$H {a}$: manual cars get better gas mileage than automatic cars"
   ],
   "metadata": {
    "collapsed": false
   }
  },
  {
   "cell_type": "code",
   "execution_count": 19,
   "outputs": [
    {
     "name": "stdout",
     "output_type": "stream",
     "text": [
      "26.635167464114826\n",
      "21.942777233382337\n"
     ]
    }
   ],
   "source": [
    "print(df_manual.average_mileage.var())\n",
    "print(df_auto.average_mileage.var())"
   ],
   "metadata": {
    "collapsed": false,
    "ExecuteTime": {
     "start_time": "2023-04-20T12:04:47.822814Z",
     "end_time": "2023-04-20T12:04:47.923987Z"
    }
   }
  },
  {
   "cell_type": "code",
   "execution_count": 20,
   "outputs": [
    {
     "data": {
      "text/plain": "(4.443514012903072, 1.7952248999917893e-05)"
     },
     "execution_count": 20,
     "metadata": {},
     "output_type": "execute_result"
    }
   ],
   "source": [
    "t, p = stats.ttest_ind(df_manual.average_mileage, df_auto.average_mileage, equal_var=False)\n",
    "t, p"
   ],
   "metadata": {
    "collapsed": false,
    "ExecuteTime": {
     "start_time": "2023-04-20T12:04:47.825455Z",
     "end_time": "2023-04-20T12:04:47.924160Z"
    }
   }
  },
  {
   "cell_type": "code",
   "execution_count": 21,
   "outputs": [
    {
     "name": "stdout",
     "output_type": "stream",
     "text": [
      "is p < alpha? True\n",
      "is t > 0? True\n"
     ]
    }
   ],
   "source": [
    "print(\"is p < alpha?\", p < alpha)\n",
    "print(\"is t > 0?\", t > 0)"
   ],
   "metadata": {
    "collapsed": false,
    "ExecuteTime": {
     "start_time": "2023-04-20T12:04:47.828161Z",
     "end_time": "2023-04-20T12:04:47.924255Z"
    }
   }
  },
  {
   "cell_type": "code",
   "execution_count": 22,
   "outputs": [
    {
     "name": "stdout",
     "output_type": "stream",
     "text": [
      "reject the null hypothesis\n"
     ]
    }
   ],
   "source": [
    "if p < alpha and t > 0:\n",
    "    print(\"reject the null hypothesis\")\n",
    "else:\n",
    "    print(\"fail to reject the null hypothesis\")"
   ],
   "metadata": {
    "collapsed": false,
    "ExecuteTime": {
     "start_time": "2023-04-20T12:04:47.830121Z",
     "end_time": "2023-04-20T12:04:47.924361Z"
    }
   }
  },
  {
   "cell_type": "markdown",
   "source": [
    "1.Answer with the type of stats test you would use (assume normal distribution):\n",
    "    Is there a relationship between the length of your arm and the length of your foot?\n",
    "    Do guys and gals quit their jobs at the same rate?\n",
    "    Does the length of time of the lecture correlate with a students grade?"
   ],
   "metadata": {
    "collapsed": false
   }
  },
  {
   "cell_type": "markdown",
   "source": [
    "#is there a relationship between the length of your arm and the length of your foot?\n",
    "continuous"
   ],
   "metadata": {
    "collapsed": false
   }
  },
  {
   "cell_type": "markdown",
   "source": [
    "# do guys and gals quit their jobs at the same rate?\n",
    "independent 2 tailed t-test"
   ],
   "metadata": {
    "collapsed": false
   }
  },
  {
   "cell_type": "markdown",
   "source": [
    "# does the length of time of the lecture correlate with a students grade?\n",
    "continuous"
   ],
   "metadata": {
    "collapsed": false
   }
  },
  {
   "cell_type": "markdown",
   "source": [
    "2.Use the telco_churn data.\n",
    "    Does tenure correlate with monthly charges?\n",
    "    Total charges?\n",
    "    What happens if you control for phone and internet service?"
   ],
   "metadata": {
    "collapsed": false
   }
  },
  {
   "cell_type": "code",
   "execution_count": 23,
   "outputs": [],
   "source": [
    "from env import host, username, password\n",
    "import pandas as pd\n",
    "\n",
    "import scipy.stats as stats\n",
    "import seaborn as sns\n",
    "def get_db_url(database):\n",
    "    database = database\n",
    "    url = f'mysql+pymysql://{username}:{password}@{host}/{database}'\n",
    "    return url"
   ],
   "metadata": {
    "collapsed": false,
    "ExecuteTime": {
     "start_time": "2023-04-20T12:04:47.833057Z",
     "end_time": "2023-04-20T12:04:47.924414Z"
    }
   }
  },
  {
   "cell_type": "code",
   "execution_count": 24,
   "outputs": [
    {
     "data": {
      "text/plain": "(0.24789985628615246, 4.094044991483017e-99)"
     },
     "execution_count": 24,
     "metadata": {},
     "output_type": "execute_result"
    }
   ],
   "source": [
    "# does tenure correlate with monthly charges?\n",
    "# $h_{o}$: there is no correlation between tenure and monthly charges\n",
    "# $h_{a}$: there is a correlation between tenure and monthly charges\n",
    "\n",
    "pf = pd.read_sql('SELECT tenure, monthly_charges FROM customers', get_db_url('telco_churn'))\n",
    "x=pf.tenure\n",
    "y=pf.monthly_charges\n",
    "r, p = stats.pearsonr(x, y)\n",
    "r, p\n"
   ],
   "metadata": {
    "collapsed": false,
    "ExecuteTime": {
     "start_time": "2023-04-20T12:04:47.835551Z",
     "end_time": "2023-04-20T12:04:48.924389Z"
    }
   }
  },
  {
   "cell_type": "code",
   "execution_count": 25,
   "outputs": [
    {
     "data": {
      "text/plain": "(0.8258804609332071, 0.0)"
     },
     "execution_count": 25,
     "metadata": {},
     "output_type": "execute_result"
    }
   ],
   "source": [
    "# does tenure correlate with total charges?\n",
    "# $h_{o}$: there is no correlation between tenure and total charges\n",
    "# $h_{a}$: there is a correlation between tenure and total charges\n",
    "pf = pd.read_sql('SELECT tenure, total_charges FROM customers where total_charges is not null and tenure is not null', get_db_url('telco_churn'))\n",
    "pf['total_charges'] = pd.to_numeric(pf['total_charges'], errors='coerce')\n",
    "pf = pf.dropna()\n",
    "x=pf.tenure\n",
    "y=pf.total_charges\n",
    "r, p = stats.pearsonr(x, y)\n",
    "r, p"
   ],
   "metadata": {
    "collapsed": false,
    "ExecuteTime": {
     "start_time": "2023-04-20T12:04:48.925551Z",
     "end_time": "2023-04-20T12:04:50.164921Z"
    }
   }
  },
  {
   "cell_type": "code",
   "execution_count": 26,
   "outputs": [
    {
     "data": {
      "text/plain": "(0.8298393210699468, 0.0)"
     },
     "execution_count": 26,
     "metadata": {},
     "output_type": "execute_result"
    }
   ],
   "source": [
    "# what happens if you control for phone and internet service?\n",
    "# $h_{o}$: there is no correlation between tenure and total charges\n",
    "# $h_{a}$: there is a correlation between tenure and total charges\n",
    "df_telco = pd.read_sql('select * from customers', get_db_url('telco_churn'))\n",
    "df_telco['total_charges'] = pd.to_numeric(df_telco['total_charges'], errors='coerce')\n",
    "df_telco['tenure'] = pd.to_numeric(df_telco['tenure'], errors='coerce')\n",
    "df_telco = df_telco.dropna()\n",
    "df_telco['internet_service_type_id'] = df_telco.internet_service_type_id.replace(1, True).replace(2, True).replace(3, False)\n",
    "people_with_phone = df_telco[df_telco.phone_service == \"Yes\"]\n",
    "people_without_phone = df_telco[df_telco.phone_service == \"No\"]\n",
    "people_with_internet = df_telco[df_telco.internet_service_type_id ==  True]\n",
    "people_without_internet = df_telco[df_telco.internet_service_type_id == False]\n",
    "x=people_with_phone.tenure\n",
    "y=people_with_phone.total_charges\n",
    "r, p = stats.pearsonr(x, y)\n",
    "r, p"
   ],
   "metadata": {
    "collapsed": false,
    "ExecuteTime": {
     "start_time": "2023-04-20T12:04:50.166917Z",
     "end_time": "2023-04-20T12:04:52.772636Z"
    }
   }
  },
  {
   "cell_type": "code",
   "execution_count": 27,
   "outputs": [
    {
     "data": {
      "text/plain": "(0.9319346187418149, 0.0)"
     },
     "execution_count": 27,
     "metadata": {},
     "output_type": "execute_result"
    }
   ],
   "source": [
    "x2 = people_with_internet.tenure\n",
    "y2 = people_with_internet.total_charges\n",
    "r, p = stats.pearsonr(x2, y2)\n",
    "r, p\n"
   ],
   "metadata": {
    "collapsed": false,
    "ExecuteTime": {
     "start_time": "2023-04-20T12:04:52.773936Z",
     "end_time": "2023-04-20T12:04:52.776563Z"
    }
   }
  },
  {
   "cell_type": "code",
   "execution_count": 28,
   "outputs": [
    {
     "data": {
      "text/plain": "<seaborn.axisgrid.FacetGrid at 0x15ecded40>"
     },
     "execution_count": 28,
     "metadata": {},
     "output_type": "execute_result"
    },
    {
     "data": {
      "text/plain": "<Figure size 601.486x500 with 1 Axes>",
      "image/png": "[encoded data removed]"
     },
     "metadata": {},
     "output_type": "display_data"
    }
   ],
   "source": [
    "#plot\n",
    "sns.relplot(x='tenure', y='total_charges', hue='phone_service', data=df_telco)"
   ],
   "metadata": {
    "collapsed": false,
    "ExecuteTime": {
     "start_time": "2023-04-20T12:04:52.777937Z",
     "end_time": "2023-04-20T12:04:53.171533Z"
    }
   }
  },
  {
   "cell_type": "markdown",
   "source": [
    "3.Use the employees database.\n",
    "    Is there a relationship between how long an employee has been with the company and their salary?\n",
    "    Is there a relationship between how long an employee has been with the company and the number of titles they have had?"
   ],
   "metadata": {
    "collapsed": false
   }
  },
  {
   "cell_type": "code",
   "execution_count": null,
   "outputs": [],
   "source": [
    "\n",
    "# is there a relationship between how long an employee has been with the company and their salary?\n",
    "# $h_{o}$: there is no correlation between tenure and salary\n",
    "# $h_{a}$: there is a correlation between tenure and salary\n",
    "pf = pd.read_sql(\"select distinct emp_no, min(from_date) from_date,max(to_date) to_date, avg(salary) salary from salaries where to_date < '9999-01-01' group by emp_no;\", get_db_url('employees'))"
   ],
   "metadata": {
    "collapsed": false,
    "ExecuteTime": {
     "start_time": "2023-04-19T15:30:04.516480Z",
     "end_time": "2023-04-19T15:30:10.051072Z"
    },
    "pycharm": {
     "is_executing": true
    }
   }
  },
  {
   "cell_type": "code",
   "execution_count": null,
   "outputs": [],
   "source": [
    "pf"
   ],
   "metadata": {
    "collapsed": false,
    "ExecuteTime": {
     "start_time": "2023-04-19T15:30:10.053188Z",
     "end_time": "2023-04-19T15:30:10.056215Z"
    },
    "pycharm": {
     "is_executing": true
    }
   }
  },
  {
   "cell_type": "code",
   "execution_count": null,
   "outputs": [],
   "source": [
    "pf['from_date'] = pd.to_datetime(pf['from_date'])\n",
    "pf['to_date'] = pd.to_datetime(pf['to_date'])"
   ],
   "metadata": {
    "collapsed": false,
    "ExecuteTime": {
     "start_time": "2023-04-19T15:30:10.068445Z",
     "end_time": "2023-04-19T15:30:10.125482Z"
    },
    "pycharm": {
     "is_executing": true
    }
   }
  },
  {
   "cell_type": "code",
   "execution_count": null,
   "outputs": [],
   "source": [
    "pf['tenure'] = (pf['to_date'] - pf['from_date'])\n",
    "pf['tenure'] = pf['tenure'].dt.days\n",
    "pf['tenure'] = pd.to_numeric(pf['tenure'], errors='coerce')\n",
    "pf['tenure'] = pf['tenure']/365\n",
    "pf = pf.dropna()\n",
    "pf"
   ],
   "metadata": {
    "collapsed": false,
    "ExecuteTime": {
     "start_time": "2023-04-19T15:30:10.097485Z",
     "end_time": "2023-04-19T15:30:10.125630Z"
    },
    "pycharm": {
     "is_executing": true
    }
   }
  },
  {
   "cell_type": "code",
   "execution_count": null,
   "outputs": [],
   "source": [
    "sns.relplot(x='tenure', y='salary', data=pf)\n"
   ],
   "metadata": {
    "collapsed": false,
    "ExecuteTime": {
     "start_time": "2023-04-19T15:30:10.117219Z",
     "end_time": "2023-04-19T15:30:10.611942Z"
    },
    "pycharm": {
     "is_executing": true
    }
   }
  },
  {
   "cell_type": "code",
   "execution_count": null,
   "outputs": [],
   "source": [
    "x = pf.tenure\n",
    "y = pf.salary\n",
    "r, p = stats.pearsonr(x, y)\n",
    "r, p\n"
   ],
   "metadata": {
    "collapsed": false,
    "ExecuteTime": {
     "start_time": "2023-04-19T15:30:10.612165Z",
     "end_time": "2023-04-19T15:30:10.616865Z"
    },
    "pycharm": {
     "is_executing": true
    }
   }
  },
  {
   "cell_type": "code",
   "execution_count": null,
   "outputs": [],
   "source": [
    "# is there a relationship between how long an employee has been with the company and the number of titles they have had?\n",
    "# $h_{o}$: there is no correlation between tenure and number of titles\n",
    "# $h_{a}$: there is a correlation between tenure and number of titles\n",
    "\n"
   ],
   "metadata": {
    "collapsed": false,
    "ExecuteTime": {
     "start_time": "2023-04-19T15:30:10.617550Z",
     "end_time": "2023-04-19T15:30:10.618498Z"
    },
    "pycharm": {
     "is_executing": true
    }
   }
  },
  {
   "cell_type": "markdown",
   "source": [
    "\n",
    "4.Use the sleepstudy data.\n",
    "    Is there a relationship between days and reaction time?"
   ],
   "metadata": {
    "collapsed": false
   },
   "outputs": [
    {
     "ename": "NameError",
     "evalue": "name 'pd' is not defined",
     "output_type": "error",
     "traceback": [
      "\u001B[0;31m---------------------------------------------------------------------------\u001B[0m",
      "\u001B[0;31mNameError\u001B[0m                                 Traceback (most recent call last)",
      "Cell \u001B[0;32mIn[1], line 1\u001B[0m\n\u001B[0;32m----> 1\u001B[0m pf2 \u001B[38;5;241m=\u001B[39m \u001B[43mpd\u001B[49m\u001B[38;5;241m.\u001B[39mread_sql(\u001B[38;5;124m\"\u001B[39m\u001B[38;5;124mselect distinct emp_no, min(from_date) from_date,max(to_date) to_date, count(title) titles from titles where to_date < \u001B[39m\u001B[38;5;124m'\u001B[39m\u001B[38;5;124m9999-01-01\u001B[39m\u001B[38;5;124m'\u001B[39m\u001B[38;5;124m group by emp_no;\u001B[39m\u001B[38;5;124m\"\u001B[39m, get_db_url(\u001B[38;5;124m'\u001B[39m\u001B[38;5;124memployees\u001B[39m\u001B[38;5;124m'\u001B[39m))\n",
      "\u001B[0;31mNameError\u001B[0m: name 'pd' is not defined"
     ]
    }
   ],
   "execution_count": 1
  },
  {
   "cell_type": "code",
   "execution_count": null,
   "outputs": [],
   "source": [
    "from pydataset import data\n",
    "df = data('sleepstudy')\n",
    "df\n"
   ],
   "metadata": {
    "collapsed": false,
    "ExecuteTime": {
     "start_time": "2023-04-19T15:30:10.619476Z",
     "end_time": "2023-04-19T15:30:10.623864Z"
    },
    "pycharm": {
     "is_executing": true
    }
   }
  },
  {
   "cell_type": "code",
   "execution_count": null,
   "outputs": [],
   "source": [
    "# is there a relationship between days and reaction time?\n",
    "# $h_{o}$: there is no correlation between days and reaction time\n",
    "# $h_{a}$: there is a correlation between days and reaction time"
   ],
   "metadata": {
    "collapsed": false,
    "ExecuteTime": {
     "start_time": "2023-04-19T15:30:10.624507Z",
     "end_time": "2023-04-19T15:30:10.625464Z"
    },
    "pycharm": {
     "is_executing": true
    }
   }
  },
  {
   "cell_type": "code",
   "execution_count": null,
   "outputs": [],
   "source": [
    "x = df.Days\n",
    "y = df.Reaction\n",
    "r, p = stats.spearmanr(x, y)\n",
    "r, p"
   ],
   "metadata": {
    "collapsed": false,
    "ExecuteTime": {
     "start_time": "2023-04-19T15:30:10.626513Z",
     "end_time": "2023-04-19T15:30:10.629030Z"
    },
    "pycharm": {
     "is_executing": true
    }
   }
  },
  {
   "cell_type": "markdown",
   "source": [
    "# 1.Answer with the type of stats test you would use (assume normal distribution):\n",
    "\n",
    "   # Do students get better test grades if they have a rubber duck on their desk?\n",
    "     one sample t-test\n",
    "   # Does smoking affect when or not someone has lung cancer?\n",
    "    chi\n",
    "   # Is gender independent of a person’s blood type?\n",
    "    chi\n",
    "   # A farming company wants to know if a new fertilizer has improved crop yield or not\n",
    "    two sample t-test\n",
    "   # Does the length of time of the lecture correlate with a students grade?\n",
    "    pearson\n",
    "   # Do people with dogs live in apartments more than people with cats?\n",
    "    chi"
   ],
   "metadata": {
    "collapsed": false
   }
  },
  {
   "cell_type": "markdown",
   "source": [
    "2.Use the following contingency table to help answer the question of whether using a macbook and being a codeup student are independent of each other.\n",
    "\n",
    " \tCodeup Student\tNot Codeup Student\n",
    "Uses a Macbook\t49\t20\n",
    "Doesn't Use A Macbook\t1\t30"
   ],
   "metadata": {
    "collapsed": false
   }
  },
  {
   "cell_type": "markdown",
   "source": [
    "# is there a relationship between being a codeup student and using a macbook?\n",
    "# $h_{o}$: there is no correlation between being a codeup student and using a macbook\n",
    "# $h_{a}$: there is a correlation between being a codeup student and using a macbook"
   ],
   "metadata": {
    "collapsed": false
   }
  },
  {
   "cell_type": "code",
   "execution_count": null,
   "outputs": [],
   "source": [
    "alpha = .05\n",
    "observed = pd.DataFrame([[49, 20], [1, 30]], index=['Uses a Macbook', \"Doesn't Use A Macbook\"], columns=['Codeup Student', 'Not Codeup Student'])\n",
    "chi2, p, degf, expected = stats.chi2_contingency(observed)\n",
    "chi2, p, degf, expected\n"
   ],
   "metadata": {
    "collapsed": false,
    "ExecuteTime": {
     "start_time": "2023-04-19T15:30:10.630821Z",
     "end_time": "2023-04-19T15:30:10.634682Z"
    },
    "pycharm": {
     "is_executing": true
    }
   }
  },
  {
   "cell_type": "code",
   "execution_count": null,
   "outputs": [],
   "source": [
    "def eval_results(p, alpha):\n",
    "    if p < alpha:\n",
    "        print(\"We reject the null hypothesis\")\n",
    "    else:\n",
    "        print(\"We fail to reject the null hypothesis\")"
   ],
   "metadata": {
    "collapsed": false,
    "ExecuteTime": {
     "start_time": "2023-04-19T15:30:10.633034Z",
     "end_time": "2023-04-19T15:30:10.694010Z"
    },
    "pycharm": {
     "is_executing": true
    }
   }
  },
  {
   "cell_type": "code",
   "execution_count": null,
   "outputs": [],
   "source": [
    "eval_results(p, alpha)"
   ],
   "metadata": {
    "collapsed": false,
    "ExecuteTime": {
     "start_time": "2023-04-19T15:30:10.634913Z",
     "end_time": "2023-04-19T15:30:10.722954Z"
    },
    "pycharm": {
     "is_executing": true
    }
   }
  },
  {
   "cell_type": "markdown",
   "source": [
    "3.Choose another 2 categorical variables from the mpg dataset and perform a\n",
    "c\n",
    "h\n",
    "i\n",
    "2\n",
    "contingency table test with them. Be sure to state your null and alternative hypotheses."
   ],
   "metadata": {
    "collapsed": false
   }
  },
  {
   "cell_type": "code",
   "execution_count": null,
   "outputs": [],
   "source": [
    "df = data('mpg')\n",
    "\n",
    "# is there a relationship between transmission type and drive type?\n",
    "# $h_{o}$: there is no correlation between transmission type and drive type\n",
    "# $h_{a}$: there is a correlation between transmission type and drive type\n",
    "\n",
    "trans = df.trans\n",
    "drive = df.drv\n",
    "observed = pd.crosstab(trans, drive)\n",
    "\n",
    "chi2 , p, degf, expected = stats.chi2_contingency(observed)\n",
    "chi2 , p, degf, expected\n"
   ],
   "metadata": {
    "collapsed": false,
    "ExecuteTime": {
     "start_time": "2023-04-19T15:30:10.638658Z",
     "end_time": "2023-04-19T15:30:10.723077Z"
    },
    "pycharm": {
     "is_executing": true
    }
   }
  },
  {
   "cell_type": "code",
   "execution_count": null,
   "outputs": [],
   "source": [
    "eval_results(p, alpha)"
   ],
   "metadata": {
    "collapsed": false,
    "ExecuteTime": {
     "start_time": "2023-04-19T15:30:10.874756Z",
     "end_time": "2023-04-19T15:30:10.878971Z"
    },
    "pycharm": {
     "is_executing": true
    }
   }
  },
  {
   "cell_type": "markdown",
   "source": [
    "\n",
    "4.Use the data from the employees database to answer these questions:\n",
    "\n",
    "Is an employee's gender independent of whether an employee works in sales or marketing? (only look at current employees)\n",
    "Is an employee's gender independent of whether or not they are or have been a manager?"
   ],
   "metadata": {
    "collapsed": false
   }
  },
  {
   "cell_type": "code",
   "execution_count": null,
   "outputs": [],
   "source": [
    "# is an employees gender independent of whether or not they work in sales or marketing?\n",
    "# $H_{o}$ there is no correlation between gender and department(sales or marketing)\n",
    "# $H_{a}$ there is a correlation between gender and department(sales or marketing)\n",
    "pf = pd.read_sql(\"select * from employees left join dept_emp de on employees.emp_no = de.emp_no left join departments d on de.dept_no = d.dept_no where (d.dept_name = 'Marketing' or d.dept_name= 'Sales') and to_date > now()\", get_db_url('employees'))\n"
   ],
   "metadata": {
    "collapsed": false,
    "ExecuteTime": {
     "start_time": "2023-04-19T15:30:11.839491Z",
     "end_time": "2023-04-19T15:30:13.988401Z"
    },
    "pycharm": {
     "is_executing": true
    }
   }
  },
  {
   "cell_type": "code",
   "execution_count": null,
   "outputs": [],
   "source": [
    "gender =pf.gender\n",
    "department = pf.dept_name"
   ],
   "metadata": {
    "collapsed": false,
    "ExecuteTime": {
     "start_time": "2023-04-19T15:30:13.989733Z",
     "end_time": "2023-04-19T15:30:13.991337Z"
    },
    "pycharm": {
     "is_executing": true
    }
   }
  },
  {
   "cell_type": "code",
   "execution_count": null,
   "outputs": [],
   "source": [
    "observed = pd.crosstab(gender, department)\n",
    "observed"
   ],
   "metadata": {
    "collapsed": false,
    "ExecuteTime": {
     "start_time": "2023-04-19T15:30:13.992559Z",
     "end_time": "2023-04-19T15:30:14.002506Z"
    },
    "pycharm": {
     "is_executing": true
    }
   }
  },
  {
   "cell_type": "code",
   "execution_count": null,
   "outputs": [],
   "source": [
    "chi2 , p, degf, expected = stats.chi2_contingency(observed)\n",
    "chi2 , p, degf, expected"
   ],
   "metadata": {
    "collapsed": false,
    "ExecuteTime": {
     "start_time": "2023-04-19T15:30:14.065729Z",
     "end_time": "2023-04-19T15:30:14.081308Z"
    },
    "pycharm": {
     "is_executing": true
    }
   }
  },
  {
   "cell_type": "code",
   "execution_count": null,
   "outputs": [],
   "source": [
    "eval_results(p, alpha)"
   ],
   "metadata": {
    "collapsed": false,
    "ExecuteTime": {
     "start_time": "2023-04-19T15:30:14.532893Z",
     "end_time": "2023-04-19T15:30:14.538337Z"
    },
    "pycharm": {
     "is_executing": true
    }
   }
  },
  {
   "cell_type": "code",
   "execution_count": null,
   "outputs": [],
   "source": [
    "# is an employees gender independent of whether or not they are or have been a manager?\n",
    "# $H_{o}$ there is no relationship between gender and being a manager\n",
    "# $H_{o}$ there is a relationship between gender and being a manager"
   ],
   "metadata": {
    "collapsed": false,
    "ExecuteTime": {
     "start_time": "2023-04-19T15:30:14.907265Z",
     "end_time": "2023-04-19T15:30:14.912783Z"
    },
    "pycharm": {
     "is_executing": true
    }
   }
  },
  {
   "cell_type": "code",
   "execution_count": null,
   "outputs": [],
   "source": [
    "pf = pd.read_sql('''select e.gender, dm.dept_no is not null as is_manager\n",
    "from employees e\n",
    "left join dept_manager dm on e.emp_no = dm.emp_no''', get_db_url('employees'))\n",
    "pf"
   ],
   "metadata": {
    "collapsed": false,
    "ExecuteTime": {
     "start_time": "2023-04-19T15:30:15.377769Z",
     "end_time": "2023-04-19T15:30:17.965835Z"
    },
    "pycharm": {
     "is_executing": true
    }
   }
  },
  {
   "cell_type": "code",
   "execution_count": null,
   "outputs": [],
   "source": [
    "gender = pf.gender\n",
    "manager = pf.is_manager\n",
    "observed = pd.crosstab(gender, manager)\n",
    "observed"
   ],
   "metadata": {
    "collapsed": false,
    "ExecuteTime": {
     "start_time": "2023-04-19T15:30:17.967110Z",
     "end_time": "2023-04-19T15:30:17.992265Z"
    },
    "pycharm": {
     "is_executing": true
    }
   }
  },
  {
   "cell_type": "code",
   "execution_count": null,
   "outputs": [],
   "source": [
    "chi2 , p, degf, expected = stats.chi2_contingency(observed)\n",
    "chi2 , p, degf, expected\n"
   ],
   "metadata": {
    "collapsed": false,
    "ExecuteTime": {
     "start_time": "2023-04-19T15:30:17.987911Z",
     "end_time": "2023-04-19T15:30:18.024419Z"
    },
    "pycharm": {
     "is_executing": true
    }
   }
  },
  {
   "cell_type": "code",
   "execution_count": null,
   "outputs": [],
   "source": [
    "eval_results(p, alpha)"
   ],
   "metadata": {
    "collapsed": false,
    "ExecuteTime": {
     "start_time": "2023-04-19T15:30:17.990784Z",
     "end_time": "2023-04-19T15:30:18.035880Z"
    },
    "pycharm": {
     "is_executing": true
    }
   }
  },
  {
   "cell_type": "markdown",
   "source": [
    "Codeup wants to know if there is a difference in the proportion of data science students who hold bachelors degrees to the proportion of web dev students who hold bachelors degrees.  What is the the null hypothesis?\n"
   ],
   "metadata": {
    "collapsed": false
   }
  },
  {
   "cell_type": "markdown",
   "source": [
    "there is no difference in the proportion of data science students who hold bachelors degrees to the proportion of web dev students who hold bachelors degrees"
   ],
   "metadata": {
    "collapsed": false
   }
  },
  {
   "cell_type": "code",
   "execution_count": null,
   "outputs": [],
   "source": [],
   "metadata": {
    "collapsed": false,
    "pycharm": {
     "is_executing": true
    }
   }
  }
 ],
 "metadata": {
  "kernelspec": {
   "display_name": "Python 3",
   "language": "python",
   "name": "python3"
  },
  "language_info": {
   "codemirror_mode": {
    "name": "ipython",
    "version": 2
   },
   "file_extension": ".py",
   "mimetype": "text/x-python",
   "name": "python",
   "nbconvert_exporter": "python",
   "pygments_lexer": "ipython2",
   "version": "2.7.6"
  }
 },
 "nbformat": 4,
 "nbformat_minor": 0
}
