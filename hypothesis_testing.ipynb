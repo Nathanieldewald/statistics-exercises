{
 "cells": [
  {
   "cell_type": "markdown",
   "source": [
    "Has the network latency gone up since we switched internet service providers?\n",
    "Is the website redesign any good?\n",
    "Is our television ad driving more sales?"
   ],
   "metadata": {
    "collapsed": false
   }
  },
  {
   "cell_type": "markdown",
   "source": [
    "1.Answer with the type of test you would use (assume normal distribution):\n",
    "\n",
    "    Is there a difference in grades of students on the second floor compared to grades of all students?\n",
    "\n",
    "    Are adults who drink milk taller than adults who dont drink milk?\n",
    "\n",
    "    Is the the price of gas higher in texas or in new mexico?\n",
    "\n",
    "    Are there differences in stress levels between students who take data science vs students who take web development vs students who take cloud academy?"
   ],
   "metadata": {
    "collapsed": false
   }
  },
  {
   "cell_type": "markdown",
   "source": [
    "# is there a difference in grades of students on the second floor compared to grades of all students?\n",
    "independent t-test"
   ],
   "metadata": {
    "collapsed": false
   }
  },
  {
   "cell_type": "markdown",
   "source": [
    "# Are adults who drink milk taller than adults who dont drink milk?\n",
    "independent t-test"
   ],
   "metadata": {
    "collapsed": false
   }
  },
  {
   "cell_type": "markdown",
   "source": [
    "# Is the the price of gas higher in texas or in new mexico?\n",
    "independent t-test"
   ],
   "metadata": {
    "collapsed": false
   }
  },
  {
   "cell_type": "markdown",
   "source": [
    "# Are there differences in stress levels between students who take data science vs students who take web development vs students who take cloud academy?\n",
    "ANOVA"
   ],
   "metadata": {
    "collapsed": false
   }
  },
  {
   "cell_type": "markdown",
   "source": [
    "2.Ace Realty wants to determine whether the average time it takes to sell homes is different for its two offices. A sample of 40 sales from office #1 revealed a mean of 90 days and a standard deviation of 15 days. A sample of 50 sales from office #2 revealed a mean of 100 days and a standard deviation of 20 days. Use a .05 level of significance."
   ],
   "metadata": {
    "collapsed": false
   }
  },
  {
   "cell_type": "code",
   "execution_count": 2,
   "outputs": [],
   "source": [
    "import numpy as np\n",
    "import pandas as pd\n",
    "import matplotlib.pyplot as plt\n",
    "import seaborn as sns\n",
    "from pydataset import data\n",
    "from scipy import stats\n",
    "from env import host, username, password\n",
    "a_sample = 40\n",
    "b_sample = 50\n",
    "a_mean = 90\n",
    "b_mean = 100\n",
    "a_std = 15\n",
    "b_std = 20\n",
    "alpha = .05\n",
    "df_a = pd.DataFrame(np.random.normal(a_mean, a_std, a_sample))\n",
    "df_b = pd.DataFrame(np.random.normal(b_mean, b_std, b_sample))"
   ],
   "metadata": {
    "collapsed": false
   }
  },
  {
   "cell_type": "code",
   "execution_count": 3,
   "outputs": [
    {
     "data": {
      "text/plain": "array([[<Axes: title={'center': '0'}>]], dtype=object)"
     },
     "execution_count": 3,
     "metadata": {},
     "output_type": "execute_result"
    },
    {
     "data": {
      "text/plain": "<Figure size 640x480 with 1 Axes>",
      "image/png": "[encoded data removed]"
     },
     "metadata": {},
     "output_type": "display_data"
    }
   ],
   "source": [
    "df_a.hist()"
   ],
   "metadata": {
    "collapsed": false
   }
  },
  {
   "cell_type": "code",
   "execution_count": 4,
   "outputs": [
    {
     "data": {
      "text/plain": "array([[<Axes: title={'center': '0'}>]], dtype=object)"
     },
     "execution_count": 4,
     "metadata": {},
     "output_type": "execute_result"
    },
    {
     "data": {
      "text/plain": "<Figure size 640x480 with 1 Axes>",
      "image/png": "[encoded data removed]"
     },
     "metadata": {},
     "output_type": "display_data"
    }
   ],
   "source": [
    "df_b.hist()"
   ],
   "metadata": {
    "collapsed": false
   }
  },
  {
   "cell_type": "markdown",
   "source": [
    "$H{o}$: office 1 and office 2 have the same average time to sell a home\n",
    "$H{a}$: office 1 and office 2 do not have the same average time to sell a home"
   ],
   "metadata": {
    "collapsed": false
   }
  },
  {
   "cell_type": "code",
   "execution_count": 5,
   "outputs": [
    {
     "name": "stdout",
     "output_type": "stream",
     "text": [
      "0    173.950372\n",
      "dtype: float64\n",
      "0    453.335503\n",
      "dtype: float64\n"
     ]
    }
   ],
   "source": [
    "print(df_a.var())\n",
    "print(df_b.var())"
   ],
   "metadata": {
    "collapsed": false
   }
  },
  {
   "cell_type": "code",
   "execution_count": 6,
   "outputs": [
    {
     "data": {
      "text/plain": "(array([-2.34028861]), array([0.02166285]))"
     },
     "execution_count": 6,
     "metadata": {},
     "output_type": "execute_result"
    }
   ],
   "source": [
    "t, p = stats.ttest_ind(df_a, df_b, equal_var=False)\n",
    "t, p"
   ],
   "metadata": {
    "collapsed": false
   }
  },
  {
   "cell_type": "code",
   "execution_count": 7,
   "outputs": [
    {
     "name": "stdout",
     "output_type": "stream",
     "text": [
      "is p < alpha? [ True]\n",
      "is t > 0? [False]\n"
     ]
    }
   ],
   "source": [
    "print(\"is p/2 < alpha?\", p < alpha)\n",
    "print(\"is t > 0?\", t > 0)"
   ],
   "metadata": {
    "collapsed": false
   }
  },
  {
   "cell_type": "code",
   "execution_count": 8,
   "outputs": [
    {
     "name": "stdout",
     "output_type": "stream",
     "text": [
      "fail to reject the null hypothesis\n"
     ]
    }
   ],
   "source": [
    "if p < alpha and t > 0:\n",
    "    print(\"reject the null hypothesis\")\n",
    "else:\n",
    "    print(\"fail to reject the null hypothesis\")"
   ],
   "metadata": {
    "collapsed": false
   }
  },
  {
   "cell_type": "markdown",
   "source": [
    "\n",
    "3.Load the mpg dataset and use it to answer the following questions:\n",
    "\n",
    "    Is there a difference in fuel-efficiency in cars from 2008 vs 1999?"
   ],
   "metadata": {
    "collapsed": false
   }
  },
  {
   "cell_type": "code",
   "execution_count": 9,
   "outputs": [],
   "source": [
    "df_mpg = data('mpg')\n",
    "df_mpg['average_mileage'] = (df_mpg.cty + df_mpg.hwy) / 2\n",
    "df_mpg_1999 = df_mpg[df_mpg.year == 1999]\n",
    "df_mpg_2008 = df_mpg[df_mpg.year == 2008]"
   ],
   "metadata": {
    "collapsed": false
   }
  },
  {
   "cell_type": "markdown",
   "source": [
    "$H{o}$: there is no difference in fuel-efficiency in cars from 1999 vs 2008\n",
    "$H{a}$: there is a difference in fuel-efficiency in cars from 1999 vs 2008"
   ],
   "metadata": {
    "collapsed": false
   }
  },
  {
   "cell_type": "code",
   "execution_count": 10,
   "outputs": [
    {
     "name": "stdout",
     "output_type": "stream",
     "text": [
      "27.122605363984682\n",
      "24.097480106100797\n"
     ]
    }
   ],
   "source": [
    "print(df_mpg_1999.average_mileage.var())\n",
    "print(df_mpg_2008.average_mileage.var())"
   ],
   "metadata": {
    "collapsed": false
   }
  },
  {
   "cell_type": "code",
   "execution_count": 11,
   "outputs": [],
   "source": [
    "t, p = stats.ttest_ind(df_mpg_1999.average_mileage, df_mpg_2008.average_mileage, equal_var=False)"
   ],
   "metadata": {
    "collapsed": false
   }
  },
  {
   "cell_type": "code",
   "execution_count": 12,
   "outputs": [
    {
     "name": "stdout",
     "output_type": "stream",
     "text": [
      "is p < alpha? False\n",
      "is t > 0? True\n"
     ]
    }
   ],
   "source": [
    "print(\"is p < alpha?\", p < alpha)\n",
    "print(\"is t > 0?\", t > 0)"
   ],
   "metadata": {
    "collapsed": false
   }
  },
  {
   "cell_type": "code",
   "execution_count": 13,
   "outputs": [
    {
     "name": "stdout",
     "output_type": "stream",
     "text": [
      "fail to reject the null hypothesis\n"
     ]
    }
   ],
   "source": [
    "if p/2 < alpha and t > 0:\n",
    "    print(\"reject the null hypothesis\")\n",
    "else:\n",
    "    print(\"fail to reject the null hypothesis\")"
   ],
   "metadata": {
    "collapsed": false
   }
  },
  {
   "cell_type": "markdown",
   "source": [
    "    Are compact cars more fuel-efficient than the average car?"
   ],
   "metadata": {
    "collapsed": false
   }
  },
  {
   "cell_type": "code",
   "execution_count": 14,
   "outputs": [],
   "source": [
    "df_mpg\n",
    "df_compact = df_mpg[df_mpg['class'] == 'compact']"
   ],
   "metadata": {
    "collapsed": false
   }
  },
  {
   "cell_type": "markdown",
   "source": [
    "$H {o}$: compact cars are not more fuel-efficient than the average car\n",
    "$H {a}$: compact cars are more fuel-efficient than the average car"
   ],
   "metadata": {
    "collapsed": false
   }
  },
  {
   "cell_type": "code",
   "execution_count": 15,
   "outputs": [
    {
     "name": "stdout",
     "output_type": "stream",
     "text": [
      "12.442876965772433\n",
      "25.50542900113715\n"
     ]
    }
   ],
   "source": [
    "print(df_compact.average_mileage.var())\n",
    "print(df_mpg.average_mileage.var())"
   ],
   "metadata": {
    "collapsed": false
   }
  },
  {
   "cell_type": "code",
   "execution_count": 16,
   "outputs": [
    {
     "data": {
      "text/plain": "(7.896888573132533, 4.198563794317163e-10)"
     },
     "execution_count": 16,
     "metadata": {},
     "output_type": "execute_result"
    }
   ],
   "source": [
    "t, p = stats.ttest_1samp(df_compact.average_mileage, df_mpg.average_mileage.mean())\n",
    "t, p"
   ],
   "metadata": {
    "collapsed": false
   }
  },
  {
   "cell_type": "code",
   "execution_count": 27,
   "outputs": [
    {
     "name": "stdout",
     "output_type": "stream",
     "text": [
      "is p/2 < alpha? True\n",
      "is t > 0? True\n"
     ]
    }
   ],
   "source": [
    "print(\"is p < alpha?\", p < alpha)\n",
    "print(\"is t > 0?\", t > 0)"
   ],
   "metadata": {
    "collapsed": false
   }
  },
  {
   "cell_type": "code",
   "execution_count": 25,
   "outputs": [
    {
     "name": "stdout",
     "output_type": "stream",
     "text": [
      "reject the null hypothesis\n"
     ]
    }
   ],
   "source": [
    "if p < alpha and t > 0:\n",
    "    print(\"reject the null hypothesis\")\n",
    "else:\n",
    "    print(\"fail to reject the null hypothesis\")"
   ],
   "metadata": {
    "collapsed": false
   }
  },
  {
   "cell_type": "markdown",
   "source": [
    "\n",
    "    Do manual cars get better gas mileage than automatic cars?"
   ],
   "metadata": {
    "collapsed": false
   }
  },
  {
   "cell_type": "code",
   "execution_count": 19,
   "outputs": [],
   "source": [
    "df_manual = df_mpg[df_mpg[\"trans\"].str.contains(\"manual\")]\n",
    "df_auto = df_mpg[df_mpg[\"trans\"].str.contains(\"auto\")]"
   ],
   "metadata": {
    "collapsed": false
   }
  },
  {
   "cell_type": "markdown",
   "source": [
    "$H {o}$: manual cars do not get better gas mileage than automatic cars\n",
    "$H {a}$: manual cars get better gas mileage than automatic cars"
   ],
   "metadata": {
    "collapsed": false
   }
  },
  {
   "cell_type": "code",
   "execution_count": 20,
   "outputs": [
    {
     "name": "stdout",
     "output_type": "stream",
     "text": [
      "26.635167464114826\n",
      "21.942777233382337\n"
     ]
    }
   ],
   "source": [
    "print(df_manual.average_mileage.var())\n",
    "print(df_auto.average_mileage.var())"
   ],
   "metadata": {
    "collapsed": false
   }
  },
  {
   "cell_type": "code",
   "execution_count": 21,
   "outputs": [
    {
     "data": {
      "text/plain": "(4.443514012903072, 1.7952248999917893e-05)"
     },
     "execution_count": 21,
     "metadata": {},
     "output_type": "execute_result"
    }
   ],
   "source": [
    "t, p = stats.ttest_ind(df_manual.average_mileage, df_auto.average_mileage, equal_var=False)\n",
    "t, p"
   ],
   "metadata": {
    "collapsed": false
   }
  },
  {
   "cell_type": "code",
   "execution_count": 22,
   "outputs": [
    {
     "name": "stdout",
     "output_type": "stream",
     "text": [
      "is p < alpha? True\n",
      "is t > 0? True\n"
     ]
    }
   ],
   "source": [
    "print(\"is p < alpha?\", p < alpha)\n",
    "print(\"is t > 0?\", t > 0)"
   ],
   "metadata": {
    "collapsed": false
   }
  },
  {
   "cell_type": "code",
   "execution_count": 23,
   "outputs": [
    {
     "name": "stdout",
     "output_type": "stream",
     "text": [
      "reject the null hypothesis\n"
     ]
    }
   ],
   "source": [
    "if p < alpha and t > 0:\n",
    "    print(\"reject the null hypothesis\")\n",
    "else:\n",
    "    print(\"fail to reject the null hypothesis\")"
   ],
   "metadata": {
    "collapsed": false
   }
  },
  {
   "cell_type": "code",
   "execution_count": null,
   "outputs": [],
   "source": [],
   "metadata": {
    "collapsed": false,
    "pycharm": {
     "is_executing": true
    }
   }
  }
 ],
 "metadata": {
  "kernelspec": {
   "display_name": "Python 3",
   "language": "python",
   "name": "python3"
  },
  "language_info": {
   "codemirror_mode": {
    "name": "ipython",
    "version": 2
   },
   "file_extension": ".py",
   "mimetype": "text/x-python",
   "name": "python",
   "nbconvert_exporter": "python",
   "pygments_lexer": "ipython2",
   "version": "2.7.6"
  }
 },
 "nbformat": 4,
 "nbformat_minor": 0
}
