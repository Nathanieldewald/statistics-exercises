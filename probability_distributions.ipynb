{
 "cells": [
  {
   "cell_type": "code",
   "execution_count": 1,
   "outputs": [],
   "source": [
    "import numpy as np\n",
    "import pandas as pd\n",
    "import matplotlib.pyplot as plt\n",
    "import seaborn as sns\n",
    "from scipy import stats\n",
    "from pydataset import data\n",
    "\n",
    "import env\n",
    "from env import host, username, password\n",
    "from scipy.stats import poisson\n",
    "\n",
    "def get_db_url(database):\n",
    "    database = database\n",
    "    url = f'mysql+pymysql://{username}:{password}@{host}/{database}'\n",
    "    return url\n"
   ],
   "metadata": {
    "collapsed": false
   }
  },
  {
   "cell_type": "markdown",
   "source": [
    "1.A bank found that the average number of cars waiting during the noon hour at a drive-up window follows a Poisson distribution with a mean of 2 cars. Make a chart of this distribution and answer these questions concerning the probability of cars waiting at the drive-up window.\n",
    "\n",
    "    What is the probability that no cars drive up in the noon hour?\n",
    "    What is the probability that 3 or more cars come through the drive through?\n",
    "    How likely is it that the drive through gets at least 1 car?\n"
   ],
   "metadata": {
    "collapsed": false
   }
  },
  {
   "cell_type": "code",
   "execution_count": 2,
   "outputs": [
    {
     "data": {
      "text/plain": "<BarContainer object of 11 artists>"
     },
     "execution_count": 2,
     "metadata": {},
     "output_type": "execute_result"
    },
    {
     "data": {
      "text/plain": "<Figure size 640x480 with 1 Axes>",
      "image/png": "[encoded data removed]"
     },
     "metadata": {},
     "output_type": "display_data"
    }
   ],
   "source": [
    "plt.bar(x=[0,1,2,3,4,5,6,7,8,9,10], height=poisson.pmf(mu=2, k=[0,1,2,3,4,5,6,7,8,9,10]))"
   ],
   "metadata": {
    "collapsed": false
   }
  },
  {
   "cell_type": "code",
   "execution_count": 3,
   "outputs": [
    {
     "data": {
      "text/plain": "0.1353352832366127"
     },
     "execution_count": 3,
     "metadata": {},
     "output_type": "execute_result"
    }
   ],
   "source": [
    "poisson.pmf(mu=2, k=0)"
   ],
   "metadata": {
    "collapsed": false
   }
  },
  {
   "cell_type": "code",
   "execution_count": 4,
   "outputs": [
    {
     "data": {
      "text/plain": "0.18044704431548356"
     },
     "execution_count": 4,
     "metadata": {},
     "output_type": "execute_result"
    }
   ],
   "source": [
    "poisson.pmf(mu=2, k=3)"
   ],
   "metadata": {
    "collapsed": false
   }
  },
  {
   "cell_type": "code",
   "execution_count": 5,
   "outputs": [
    {
     "data": {
      "text/plain": "0.2706705664732254"
     },
     "execution_count": 5,
     "metadata": {},
     "output_type": "execute_result"
    }
   ],
   "source": [
    "poisson.pmf(mu=2, k=1)"
   ],
   "metadata": {
    "collapsed": false
   }
  },
  {
   "cell_type": "markdown",
   "source": [
    "\n",
    "2.Grades of State University graduates are normally distributed with a mean of 3.0 and a standard deviation of .3. Calculate the following:\n",
    "\n",
    "    What grade point average is required to be in the top 5% of the graduating class?"
   ],
   "metadata": {
    "collapsed": false
   }
  },
  {
   "cell_type": "code",
   "execution_count": 6,
   "outputs": [
    {
     "data": {
      "text/plain": "3.4934560880854417"
     },
     "execution_count": 6,
     "metadata": {},
     "output_type": "execute_result"
    }
   ],
   "source": [
    "stats.norm(3, .3).isf(.05)"
   ],
   "metadata": {
    "collapsed": false
   }
  },
  {
   "cell_type": "markdown",
   "source": [
    "    What GPA constitutes the bottom 15% of the class?"
   ],
   "metadata": {
    "collapsed": false
   }
  },
  {
   "cell_type": "code",
   "execution_count": 7,
   "outputs": [
    {
     "data": {
      "text/plain": "2.689069983151863"
     },
     "execution_count": 7,
     "metadata": {},
     "output_type": "execute_result"
    }
   ],
   "source": [
    "stats.norm(3, .3).ppf(.15)"
   ],
   "metadata": {
    "collapsed": false
   }
  },
  {
   "cell_type": "markdown",
   "source": [
    "    An eccentric alumnus left scholarship money for students in the third decile from the bottom of their class. Determine the range of the third decile. Would a student with a 2.8 grade point average qualify for this scholarship?"
   ],
   "metadata": {
    "collapsed": false
   }
  },
  {
   "cell_type": "code",
   "execution_count": 8,
   "outputs": [
    {
     "data": {
      "text/plain": "2.7475136299281258"
     },
     "execution_count": 8,
     "metadata": {},
     "output_type": "execute_result"
    }
   ],
   "source": [
    "stats.norm(3, .3).ppf(.2)"
   ],
   "metadata": {
    "collapsed": false
   }
  },
  {
   "cell_type": "markdown",
   "source": [
    "    If I have a GPA of 3.5, what percentile am I in?"
   ],
   "metadata": {
    "collapsed": false
   }
  },
  {
   "cell_type": "code",
   "execution_count": 10,
   "outputs": [
    {
     "data": {
      "text/plain": "0.9522096477271853"
     },
     "execution_count": 10,
     "metadata": {},
     "output_type": "execute_result"
    }
   ],
   "source": [
    "stats.norm(3, .3).cdf(3.5)"
   ],
   "metadata": {
    "collapsed": false
   }
  },
  {
   "cell_type": "markdown",
   "source": [
    "3.A marketing website has an average click-through rate of 2%. One day they observe 4326 visitors and 97 click-throughs. How likely is it that this many people or more click through?"
   ],
   "metadata": {
    "collapsed": false
   }
  },
  {
   "cell_type": "code",
   "execution_count": 11,
   "outputs": [
    {
     "data": {
      "text/plain": "0.11781530585978467"
     },
     "execution_count": 11,
     "metadata": {},
     "output_type": "execute_result"
    }
   ],
   "source": [
    "stats.binom(4326, .02).sf(97)"
   ],
   "metadata": {
    "collapsed": false
   }
  },
  {
   "cell_type": "markdown",
   "source": [
    "\n",
    "4.You are working on some statistics homework consisting of 100 questions where all of the answers are a probability rounded to the hundreths place. Looking to save time, you put down random probabilities as the answer to each question.\n"
   ],
   "metadata": {
    "collapsed": false
   }
  },
  {
   "cell_type": "markdown",
   "source": [
    "    What is the probability that at least one of your first 60 answers is correct?"
   ],
   "metadata": {
    "collapsed": false
   }
  },
  {
   "cell_type": "code",
   "execution_count": 12,
   "outputs": [
    {
     "data": {
      "text/plain": "0.45284335760923855"
     },
     "execution_count": 12,
     "metadata": {},
     "output_type": "execute_result"
    }
   ],
   "source": [
    "stats.binom(60, .01).sf(0)"
   ],
   "metadata": {
    "collapsed": false
   }
  },
  {
   "cell_type": "markdown",
   "source": [
    "5.The codeup staff tends to get upset when the student break area is not cleaned up. Suppose that there's a 3% chance that any one student cleans the break area when they visit it,\n",
    "and, on any given day, about 90% of the 3 active cohorts of 22 students visit the break area. How likely is it that the break area gets cleaned up each day?"
   ],
   "metadata": {
    "collapsed": false
   }
  },
  {
   "cell_type": "markdown",
   "source": [],
   "metadata": {
    "collapsed": false
   }
  },
  {
   "cell_type": "code",
   "execution_count": 10,
   "outputs": [
    {
     "data": {
      "text/plain": "0.8342199288437352"
     },
     "execution_count": 10,
     "metadata": {},
     "output_type": "execute_result"
    }
   ],
   "source": [
    "students = 3 * 22\n",
    "break_area = round(students * .9)\n",
    "stats.binom(break_area, .03).sf(0)"
   ],
   "metadata": {
    "collapsed": false
   }
  },
  {
   "cell_type": "markdown",
   "source": [
    "How likely is it that it goes two days without getting cleaned up?"
   ],
   "metadata": {
    "collapsed": false
   }
  },
  {
   "cell_type": "code",
   "execution_count": 28,
   "outputs": [
    {
     "data": {
      "text/plain": "0.02748303199257613"
     },
     "execution_count": 28,
     "metadata": {},
     "output_type": "execute_result"
    }
   ],
   "source": [
    "# 2 days without cleaning\n",
    "(stats.binom.pmf(0, break_area , .03)** 2)\n",
    "\n"
   ],
   "metadata": {
    "collapsed": false
   }
  },
  {
   "cell_type": "markdown",
   "source": [
    "All week?\n"
   ],
   "metadata": {
    "collapsed": false
   }
  },
  {
   "cell_type": "code",
   "execution_count": 29,
   "outputs": [
    {
     "data": {
      "text/plain": "0.00012521651388091242"
     },
     "execution_count": 29,
     "metadata": {},
     "output_type": "execute_result"
    }
   ],
   "source": [
    "(stats.binom.pmf(0,break_area, .03) ** 5)"
   ],
   "metadata": {
    "collapsed": false
   }
  },
  {
   "cell_type": "markdown",
   "source": [
    "6.You want to get lunch at La Panaderia, but notice that the line is usually very long at lunchtime. After several weeks of careful observation, you notice that the average number of people in line when your lunch break starts is normally distributed with a mean of 15 and standard deviation of 3. If it takes 2 minutes for each person to order, and 10 minutes from ordering to getting your food, what is the likelihood that you have at least 15 minutes left to eat your food before you have to go back to class? Assume you have one hour for lunch, and ignore travel time to and from La Panaderia."
   ],
   "metadata": {
    "collapsed": false
   }
  },
  {
   "cell_type": "code",
   "execution_count": 63,
   "outputs": [
    {
     "name": "stdout",
     "output_type": "stream",
     "text": [
      "The likelihood that you have at least 15 minutes left to eat your food before you have to go back to class: 74.75%\n"
     ]
    }
   ],
   "source": [
    "import scipy.stats as stats\n",
    "\n",
    "# Normal distribution parameters\n",
    "mean = 15\n",
    "std_dev = 3\n",
    "\n",
    "# Maximum number of people you can wait for\n",
    "max_people = 17\n",
    "\n",
    "# Calculate the z-score\n",
    "z_score = (max_people - mean) / std_dev\n",
    "\n",
    "# Calculate the probability\n",
    "probability = stats.norm.cdf(z_score)\n",
    "\n",
    "print(f\"The likelihood that you have at least 15 minutes left to eat your food before you have to go back to class: {probability * 100:.2f}%\")\n"
   ],
   "metadata": {
    "collapsed": false
   }
  },
  {
   "cell_type": "markdown",
   "source": [
    "7.Connect to the employees database and find the average salary of current employees, along with the standard deviation. For the following questions, calculate the answer based on modeling the employees salaries with a normal distribution defined by the calculated mean and standard deviation then compare this answer to the actual values present in the salaries dataset.\n",
    "\n",
    "    What percent of employees earn less than 60,000?\n",
    "    What percent of employees earn more than 95,000?\n",
    "    What percent of employees earn between 65,000 and 80,000?\n",
    "    What do the top 5% of employees make?\n",
    "Hint If you're looking at this exercise and wondering \"How do I get pandas to talk the database, again?\", remember that you'll need 3 things: your .gitignore, your env.py, and to use pd.read_sql. Copy over your .gitignore and env.py from your data science libraries exercises folder, and connect to the employees database like so:\n",
    "\n",
    "\n",
    "import pandas as pd\n",
    "import env\n",
    "\n",
    "url = f'mysql+pymysql://{env.user}:{env.password}@{env.host}/employees'\n",
    "pd.read_sql('SELECT * FROM departments', url)"
   ],
   "metadata": {
    "collapsed": false
   }
  },
  {
   "cell_type": "code",
   "execution_count": 100,
   "outputs": [
    {
     "data": {
      "text/plain": "   emp_no  salary   from_date     to_date\n0   10001   60117  1986-06-26  1987-06-26\n1   10001   62102  1987-06-26  1988-06-25\n2   10001   66074  1988-06-25  1989-06-25\n3   10001   66596  1989-06-25  1990-06-25\n4   10001   66961  1990-06-25  1991-06-25\n5   10001   71046  1991-06-25  1992-06-24\n6   10001   74333  1992-06-24  1993-06-24\n7   10001   75286  1993-06-24  1994-06-24\n8   10001   75994  1994-06-24  1995-06-24\n9   10001   76884  1995-06-24  1996-06-23",
      "text/html": "<div>\n<style scoped>\n    .dataframe tbody tr th:only-of-type {\n        vertical-align: middle;\n    }\n\n    .dataframe tbody tr th {\n        vertical-align: top;\n    }\n\n    .dataframe thead th {\n        text-align: right;\n    }\n</style>\n<table border=\"1\" class=\"dataframe\">\n  <thead>\n    <tr style=\"text-align: right;\">\n      <th></th>\n      <th>emp_no</th>\n      <th>salary</th>\n      <th>from_date</th>\n      <th>to_date</th>\n    </tr>\n  </thead>\n  <tbody>\n    <tr>\n      <th>0</th>\n      <td>10001</td>\n      <td>60117</td>\n      <td>1986-06-26</td>\n      <td>1987-06-26</td>\n    </tr>\n    <tr>\n      <th>1</th>\n      <td>10001</td>\n      <td>62102</td>\n      <td>1987-06-26</td>\n      <td>1988-06-25</td>\n    </tr>\n    <tr>\n      <th>2</th>\n      <td>10001</td>\n      <td>66074</td>\n      <td>1988-06-25</td>\n      <td>1989-06-25</td>\n    </tr>\n    <tr>\n      <th>3</th>\n      <td>10001</td>\n      <td>66596</td>\n      <td>1989-06-25</td>\n      <td>1990-06-25</td>\n    </tr>\n    <tr>\n      <th>4</th>\n      <td>10001</td>\n      <td>66961</td>\n      <td>1990-06-25</td>\n      <td>1991-06-25</td>\n    </tr>\n    <tr>\n      <th>5</th>\n      <td>10001</td>\n      <td>71046</td>\n      <td>1991-06-25</td>\n      <td>1992-06-24</td>\n    </tr>\n    <tr>\n      <th>6</th>\n      <td>10001</td>\n      <td>74333</td>\n      <td>1992-06-24</td>\n      <td>1993-06-24</td>\n    </tr>\n    <tr>\n      <th>7</th>\n      <td>10001</td>\n      <td>75286</td>\n      <td>1993-06-24</td>\n      <td>1994-06-24</td>\n    </tr>\n    <tr>\n      <th>8</th>\n      <td>10001</td>\n      <td>75994</td>\n      <td>1994-06-24</td>\n      <td>1995-06-24</td>\n    </tr>\n    <tr>\n      <th>9</th>\n      <td>10001</td>\n      <td>76884</td>\n      <td>1995-06-24</td>\n      <td>1996-06-23</td>\n    </tr>\n  </tbody>\n</table>\n</div>"
     },
     "execution_count": 100,
     "metadata": {},
     "output_type": "execute_result"
    }
   ],
   "source": [
    "pf = pd.read_sql('SELECT * FROM salaries', get_db_url('employees')).head(10)\n",
    "pf"
   ],
   "metadata": {
    "collapsed": false
   }
  },
  {
   "cell_type": "markdown",
   "source": [
    "The average battery life for a fully charges iphone-12 is 14 hours with standard deviation of 1.5 hour\n",
    "\n",
    "What kind of probability distribution represents the random variable \"battery life in hours\"?"
   ],
   "metadata": {
    "collapsed": false
   }
  },
  {
   "cell_type": "code",
   "execution_count": 70,
   "outputs": [],
   "source": [
    "iphone_battery = stats.norm(14, 1.5)\n"
   ],
   "metadata": {
    "collapsed": false
   }
  },
  {
   "cell_type": "markdown",
   "source": [
    "What are the appropriate defining parameters for this distribution?"
   ],
   "metadata": {
    "collapsed": false
   }
  },
  {
   "cell_type": "code",
   "execution_count": 78,
   "outputs": [],
   "source": [
    "mean = 14\n",
    "std = 1.5"
   ],
   "metadata": {
    "collapsed": false
   }
  },
  {
   "cell_type": "markdown",
   "source": [
    "Create a Scipy object/instance for this distribution\n",
    "Use the object create above and choose appropriate method (e.g. pmf, cdf, ppf etc.) to calculate the following:\n",
    " a. What is the probability the cell phone battery more than 16 hours.\n",
    " b. What is probability that cell phone battery lasts for exactly 12 hours.\n",
    " c. What is the probability that cell phone battery lasts for 12 hours or less.\n",
    " d. How many hours do the battery lasts for top 25% longest lasting phones."
   ],
   "metadata": {
    "collapsed": false
   }
  },
  {
   "cell_type": "code",
   "execution_count": 82,
   "outputs": [
    {
     "data": {
      "text/plain": "0.09121121972586788"
     },
     "execution_count": 82,
     "metadata": {},
     "output_type": "execute_result"
    }
   ],
   "source": [
    "# probability that battery lasts more than 16 hours\n",
    "iphone_battery.sf(16)"
   ],
   "metadata": {
    "collapsed": false
   }
  },
  {
   "cell_type": "code",
   "execution_count": 83,
   "outputs": [
    {
     "data": {
      "text/plain": "0.10934004978399577"
     },
     "execution_count": 83,
     "metadata": {},
     "output_type": "execute_result"
    }
   ],
   "source": [
    "# probability that battery lasts exactly 12 hours\n",
    "iphone_battery.pdf(12)"
   ],
   "metadata": {
    "collapsed": false
   }
  },
  {
   "cell_type": "code",
   "execution_count": 84,
   "outputs": [
    {
     "data": {
      "text/plain": "0.09121121972586788"
     },
     "execution_count": 84,
     "metadata": {},
     "output_type": "execute_result"
    }
   ],
   "source": [
    "# probability that battery lasts 12 hours or less\n",
    "iphone_battery.cdf(12)"
   ],
   "metadata": {
    "collapsed": false
   }
  },
  {
   "cell_type": "code",
   "execution_count": 76,
   "outputs": [
    {
     "data": {
      "text/plain": "15.011734625294123"
     },
     "execution_count": 76,
     "metadata": {},
     "output_type": "execute_result"
    }
   ],
   "source": [
    "# how many hours do the battery lasts for top 25% longest lasting phones\n",
    "iphone_battery.ppf(.75)"
   ],
   "metadata": {
    "collapsed": false
   }
  },
  {
   "cell_type": "code",
   "execution_count": 67,
   "outputs": [
    {
     "name": "stdout",
     "output_type": "stream",
     "text": [
      "The likelihood that you have at least 15 minutes left to eat your food before you have to go back to class: 63.06%\n"
     ]
    }
   ],
   "source": [
    "import scipy.stats as stats\n",
    "\n",
    "# Normal distribution parameters\n",
    "mean = 15\n",
    "std_dev = 3\n",
    "\n",
    "# Maximum number of people you can wait for\n",
    "max_people = 16\n",
    "\n",
    "# Calculate the z-score\n",
    "z_score = (max_people - mean) / std_dev\n",
    "\n",
    "# Calculate the probability\n",
    "probability = stats.norm.cdf(z_score)\n",
    "\n",
    "print(f\"The likelihood that you have at least 15 minutes left to eat your food before you have to go back to class: {probability * 100:.2f}%\")\n"
   ],
   "metadata": {
    "collapsed": false
   }
  },
  {
   "cell_type": "code",
   "execution_count": 2,
   "outputs": [
    {
     "data": {
      "text/plain": "False"
     },
     "execution_count": 2,
     "metadata": {},
     "output_type": "execute_result"
    }
   ],
   "source": [
    "2100 % 400 == 0"
   ],
   "metadata": {
    "collapsed": false
   }
  },
  {
   "cell_type": "code",
   "execution_count": 79,
   "outputs": [
    {
     "data": {
      "text/plain": "False"
     },
     "execution_count": 79,
     "metadata": {},
     "output_type": "execute_result"
    }
   ],
   "source": [
    "\n",
    "x = 21.21\n",
    "import scipy.stats as stats\n",
    "\n",
    "# Normal distribution parameters\n",
    "mean = 15\n",
    "std_dev = 3\n",
    "\n",
    "# Time spent on ordering and waiting for food\n",
    "order_time = 2\n",
    "wait_time = 10\n",
    "\n",
    "# Time needed to eat\n",
    "eat_time = 15\n",
    "\n",
    "# Total time for lunch break\n",
    "lunch_break = 60\n",
    "\n",
    "# Maximum number of people you can wait for\n",
    "max_people = (lunch_break - order_time * mean - wait_time - eat_time) / order_time\n",
    "\n",
    "# Calculate the z-score\n",
    "z_score = (max_people - mean) / std_dev\n",
    "\n",
    "# Calculate the probability\n",
    "probability = stats.norm.cdf(z_score)\n",
    "\n",
    "print(f\"The likelihood that you have at least 15 minutes left to eat your food before you have to go back to class: {probability * 100:.2f}%\")\n"
   ],
   "metadata": {
    "collapsed": false
   }
  },
  {
   "cell_type": "code",
   "execution_count": 1,
   "outputs": [
    {
     "name": "stdout",
     "output_type": "stream",
     "text": [
      "The likelihood that you have at least 15 minutes left to eat your food before you have to go back to class: 0.00%\n"
     ]
    }
   ],
   "source": [
    "import scipy.stats as stats\n",
    "\n",
    "# Normal distribution parameters\n",
    "mean = 15\n",
    "std_dev = 3\n",
    "\n",
    "# Time spent on ordering and waiting for food\n",
    "order_time = 2\n",
    "wait_time = 10\n",
    "\n",
    "# Time needed to eat\n",
    "eat_time = 15\n",
    "\n",
    "# Total time for lunch break\n",
    "lunch_break = 60\n",
    "\n",
    "# Maximum number of people you can wait for\n",
    "max_people = (lunch_break - order_time * mean - wait_time - eat_time) / order_time\n",
    "\n",
    "# Calculate the z-score\n",
    "z_score = (max_people - mean) / std_dev\n",
    "\n",
    "# Calculate the probability\n",
    "probability = stats.norm.cdf(z_score)\n",
    "\n",
    "print(f\"The likelihood that you have at least 15 minutes left to eat your food before you have to go back to class: {probability * 100:.2f}%\")\n"
   ],
   "metadata": {
    "collapsed": false
   }
  }
 ],
 "metadata": {
  "kernelspec": {
   "display_name": "Python 3",
   "language": "python",
   "name": "python3"
  },
  "language_info": {
   "codemirror_mode": {
    "name": "ipython",
    "version": 2
   },
   "file_extension": ".py",
   "mimetype": "text/x-python",
   "name": "python",
   "nbconvert_exporter": "python",
   "pygments_lexer": "ipython2",
   "version": "2.7.6"
  }
 },
 "nbformat": 4,
 "nbformat_minor": 0
}
