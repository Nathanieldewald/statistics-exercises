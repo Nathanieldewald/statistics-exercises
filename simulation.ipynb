{
 "cells": [
  {
   "cell_type": "markdown",
   "source": [
    "1.How likely is it that you roll doubles when rolling two dice?"
   ],
   "metadata": {
    "collapsed": false
   }
  },
  {
   "cell_type": "code",
   "execution_count": 2,
   "outputs": [
    {
     "name": "stdout",
     "output_type": "stream",
     "text": [
      "0.16838\n"
     ]
    }
   ],
   "source": [
    "import numpy as np\n",
    "n_trials = 100_000\n",
    "n_dice = 2\n",
    "dice = np.random.choice([1, 2, 3, 4, 5, 6], (n_trials, n_dice))\n",
    "doubles = (dice[:,0]==dice[:,1]).mean()\n",
    "print(doubles)"
   ],
   "metadata": {
    "collapsed": false,
    "ExecuteTime": {
     "start_time": "2023-04-19T15:40:46.334378Z",
     "end_time": "2023-04-19T15:40:46.356692Z"
    }
   }
  },
  {
   "cell_type": "markdown",
   "source": [
    "\n",
    "2.If you flip 8 coins, what is the probability of getting exactly 3 heads? What is the probability of getting more than 3 heads?"
   ],
   "metadata": {
    "collapsed": false
   }
  },
  {
   "cell_type": "code",
   "execution_count": 3,
   "outputs": [
    {
     "name": "stdout",
     "output_type": "stream",
     "text": [
      "0.2193\n"
     ]
    }
   ],
   "source": [
    "n_trials = 100_000\n",
    "n_coins = 8\n",
    "flips = np.random.choice([0, 1], (n_trials, n_coins))\n",
    "three_heads = (flips.sum(axis=1)==3).mean()\n",
    "print(three_heads)"
   ],
   "metadata": {
    "collapsed": false,
    "ExecuteTime": {
     "start_time": "2023-04-19T15:40:46.339980Z",
     "end_time": "2023-04-19T15:40:46.357686Z"
    }
   }
  },
  {
   "cell_type": "code",
   "execution_count": 4,
   "outputs": [
    {
     "name": "stdout",
     "output_type": "stream",
     "text": [
      "0.63615\n"
     ]
    }
   ],
   "source": [
    "more_than_three_heads = (flips.sum(axis=1)>3).mean()\n",
    "print(more_than_three_heads)"
   ],
   "metadata": {
    "collapsed": false,
    "ExecuteTime": {
     "start_time": "2023-04-19T15:40:46.348047Z",
     "end_time": "2023-04-19T15:40:46.385458Z"
    }
   }
  },
  {
   "cell_type": "markdown",
   "source": [
    "3.There are approximitely 3 web development cohorts for every 1 data science cohort at Codeup. Assuming that Codeup randomly selects an alumni to put on a billboard, what are the odds that the two billboards I drive past both have data science students on them?"
   ],
   "metadata": {
    "collapsed": false
   }
  },
  {
   "cell_type": "code",
   "execution_count": 5,
   "outputs": [
    {
     "name": "stdout",
     "output_type": "stream",
     "text": [
      "0.2485\n"
     ]
    }
   ],
   "source": [
    "n_trials = 10_000\n",
    "n_billboards = 2\n",
    "billboards = np.random.choice([1,2,3,4,], (n_trials, n_billboards))\n",
    "both_ds = (billboards==4).mean()\n",
    "print(both_ds)"
   ],
   "metadata": {
    "collapsed": false,
    "ExecuteTime": {
     "start_time": "2023-04-19T15:40:46.352061Z",
     "end_time": "2023-04-19T15:40:46.397669Z"
    }
   }
  },
  {
   "cell_type": "markdown",
   "source": [
    "4.Codeup students buy, on average, 3 poptart packages with a standard deviation of 1.5 a day from the snack vending machine. If on monday the machine is restocked with 17 poptart packages, how likely is it that I will be able to buy some poptarts on Friday afternoon? (Remember, if you have mean and standard deviation, use the np.random.normal) You'll need to make a judgement call on how to handle some of your values"
   ],
   "metadata": {
    "collapsed": false
   }
  },
  {
   "cell_type": "code",
   "execution_count": 6,
   "outputs": [
    {
     "name": "stdout",
     "output_type": "stream",
     "text": [
      "0.7662\n"
     ]
    }
   ],
   "source": [
    "n_trials = 10_000\n",
    "n_days = 5\n",
    "poptarts = np.random.normal(3, 1.5, (n_trials, n_days)).round()\n",
    "amount_left = (17 - poptarts.sum(axis=1))\n",
    "can_buy = (amount_left>=0).mean()\n",
    "print(can_buy)"
   ],
   "metadata": {
    "collapsed": false,
    "ExecuteTime": {
     "start_time": "2023-04-19T15:40:46.355459Z",
     "end_time": "2023-04-19T15:40:46.400935Z"
    }
   }
  },
  {
   "cell_type": "markdown",
   "source": [
    "5.Compare Heights\n",
    "Men have an average height of 178 cm and standard deviation of 8cm.\n",
    "Women have a mean of 170, sd = 6cm.\n",
    "Since you have means and standard deviations, you can use np.random.normal to generate observations.\n",
    "If a man and woman are chosen at random, what is the likelihood the woman is taller than the man?"
   ],
   "metadata": {
    "collapsed": false
   }
  },
  {
   "cell_type": "code",
   "execution_count": 8,
   "outputs": [],
   "source": [
    "n_trials = 10_000\n",
    "n_people = 2\n",
    "men_average = 178\n",
    "woman_average = 170\n",
    "men = np.random.normal()\n",
    "\n"
   ],
   "metadata": {
    "collapsed": false,
    "ExecuteTime": {
     "start_time": "2023-04-19T15:41:03.435452Z",
     "end_time": "2023-04-19T15:41:03.438348Z"
    }
   }
  },
  {
   "cell_type": "markdown",
   "source": [
    "6.When installing anaconda on a student's computer, there's a 1 in 250 chance that the download is corrupted and the installation fails. What are the odds that after having 50 students download anaconda, no one has an installation issue? 100 students?\n",
    "\n",
    "What is the probability that we observe an installation issue within the first 150 students that download anaconda?\n",
    "\n",
    "How likely is it that 450 students all download anaconda without an issue?\n"
   ],
   "metadata": {
    "collapsed": false
   }
  },
  {
   "cell_type": "code",
   "execution_count": null,
   "outputs": [],
   "source": [
    "n_trials = 10_000\n",
    "n_students = 50\n",
    "students = np.random.choice([0,1], (n_trials, n_students), p=[1/250, 249/250])\n",
    "no_issue = (students==1).mean()\n",
    "print(no_issue)"
   ],
   "metadata": {
    "collapsed": false
   }
  },
  {
   "cell_type": "code",
   "execution_count": null,
   "outputs": [],
   "source": [
    "n_students = 100\n",
    "students = np.random.choice([0,1], (n_trials, n_students), p=[1/250, 249/250])\n",
    "no_issue = (students==1).mean()\n",
    "print(no_issue)\n"
   ],
   "metadata": {
    "collapsed": false
   }
  },
  {
   "cell_type": "markdown",
   "source": [
    "7.There's a 70% chance on any given day that there will be at least one food truck at Travis Park. However, you haven't seen a food truck there in 3 days. How unlikely is this?\n",
    "\n",
    "How likely is it that a food truck will show up sometime this week?\n"
   ],
   "metadata": {
    "collapsed": false
   }
  },
  {
   "cell_type": "code",
   "execution_count": null,
   "outputs": [],
   "source": [
    "n_trials = 10_000\n",
    "n_days = 3\n",
    "trucks = np.random.choice([0,1], (n_trials, n_days), p=[.3, .7])\n",
    "no_trucks = (trucks==0).mean()\n",
    "print(no_trucks)"
   ],
   "metadata": {
    "collapsed": false
   }
  },
  {
   "cell_type": "code",
   "execution_count": null,
   "outputs": [],
   "source": [
    "n_days = 7\n",
    "trucks = np.random.choice([0,1], (n_trials, n_days), p=[.3, .7])\n",
    "no_trucks = (trucks==0).mean()\n",
    "print(no_trucks)"
   ],
   "metadata": {
    "collapsed": false
   }
  },
  {
   "cell_type": "markdown",
   "source": [
    "8.If 23 people are in the same room, what are the odds that two of them share a birthday? What if it's 20 people? 40?\n",
    "Be sure to add, commit, and push your work."
   ],
   "metadata": {
    "collapsed": false
   }
  },
  {
   "cell_type": "code",
   "execution_count": null,
   "outputs": [],
   "source": [
    "n_trials = 10_000\n",
    "n_people = 40\n",
    "people = np.random.choice(range(1,366), (n_trials, n_people))\n",
    "same_birthday = (people[:,0]==people[:,1]).mean()"
   ],
   "metadata": {
    "collapsed": false
   }
  },
  {
   "cell_type": "code",
   "execution_count": null,
   "outputs": [],
   "source": [],
   "metadata": {
    "collapsed": false
   }
  }
 ],
 "metadata": {
  "kernelspec": {
   "display_name": "Python 3",
   "language": "python",
   "name": "python3"
  },
  "language_info": {
   "codemirror_mode": {
    "name": "ipython",
    "version": 2
   },
   "file_extension": ".py",
   "mimetype": "text/x-python",
   "name": "python",
   "nbconvert_exporter": "python",
   "pygments_lexer": "ipython2",
   "version": "2.7.6"
  }
 },
 "nbformat": 4,
 "nbformat_minor": 0
}
